{
 "cells": [
  {
   "cell_type": "code",
   "execution_count": 2,
   "id": "5eee8e52",
   "metadata": {},
   "outputs": [
    {
     "data": {
      "application/vnd.microsoft.datawrangler.viewer.v0+json": {
       "columns": [
        {
         "name": "index",
         "rawType": "int64",
         "type": "integer"
        },
        {
         "name": "Resume_ID",
         "rawType": "int64",
         "type": "integer"
        },
        {
         "name": "Name",
         "rawType": "object",
         "type": "string"
        },
        {
         "name": "Skills",
         "rawType": "object",
         "type": "string"
        },
        {
         "name": "Experience (Years)",
         "rawType": "int64",
         "type": "integer"
        },
        {
         "name": "Education",
         "rawType": "object",
         "type": "string"
        },
        {
         "name": "Certifications",
         "rawType": "object",
         "type": "unknown"
        },
        {
         "name": "Job Role",
         "rawType": "object",
         "type": "string"
        },
        {
         "name": "Recruiter Decision",
         "rawType": "object",
         "type": "string"
        },
        {
         "name": "Salary Expectation ($)",
         "rawType": "int64",
         "type": "integer"
        },
        {
         "name": "Projects Count",
         "rawType": "int64",
         "type": "integer"
        },
        {
         "name": "AI Score (0-100)",
         "rawType": "int64",
         "type": "integer"
        }
       ],
       "ref": "64f19714-5545-4302-b9a8-8245057ffcd1",
       "rows": [
        [
         "0",
         "1",
         "Ashley Ali",
         "TensorFlow, NLP, Pytorch",
         "10",
         "B.Sc",
         null,
         "AI Researcher",
         "Hire",
         "104895",
         "8",
         "100"
        ],
        [
         "1",
         "2",
         "Wesley Roman",
         "Deep Learning, Machine Learning, Python, SQL",
         "10",
         "MBA",
         "Google ML",
         "Data Scientist",
         "Hire",
         "113002",
         "1",
         "100"
        ],
        [
         "2",
         "3",
         "Corey Sanchez",
         "Ethical Hacking, Cybersecurity, Linux",
         "1",
         "MBA",
         "Deep Learning Specialization",
         "Cybersecurity Analyst",
         "Hire",
         "71766",
         "7",
         "70"
        ],
        [
         "3",
         "4",
         "Elizabeth Carney",
         "Python, Pytorch, TensorFlow",
         "7",
         "B.Tech",
         "AWS Certified",
         "AI Researcher",
         "Hire",
         "46848",
         "0",
         "95"
        ],
        [
         "4",
         "5",
         "Julie Hill",
         "SQL, React, Java",
         "4",
         "PhD",
         null,
         "Software Engineer",
         "Hire",
         "87441",
         "9",
         "100"
        ],
        [
         "5",
         "6",
         "Samantha Santos",
         "Cybersecurity, Networking, Linux, Ethical Hacking",
         "10",
         "B.Tech",
         "Google ML",
         "Cybersecurity Analyst",
         "Hire",
         "47957",
         "5",
         "100"
        ],
        [
         "6",
         "7",
         "Tony Smith",
         "Networking, Cybersecurity, Ethical Hacking",
         "4",
         "M.Tech",
         "AWS Certified",
         "Cybersecurity Analyst",
         "Hire",
         "66208",
         "9",
         "100"
        ],
        [
         "7",
         "8",
         "Anthony Harrison",
         "TensorFlow, Pytorch, NLP",
         "3",
         "M.Tech",
         "AWS Certified",
         "AI Researcher",
         "Hire",
         "103006",
         "7",
         "90"
        ],
        [
         "8",
         "9",
         "Nancy Jenkins",
         "Networking, Ethical Hacking",
         "7",
         "MBA",
         "Deep Learning Specialization",
         "Cybersecurity Analyst",
         "Hire",
         "92270",
         "3",
         "100"
        ],
        [
         "9",
         "10",
         "Courtney Gibson",
         "Python, TensorFlow, Pytorch, NLP",
         "0",
         "M.Tech",
         "AWS Certified",
         "AI Researcher",
         "Reject",
         "60579",
         "1",
         "35"
        ],
        [
         "10",
         "11",
         "Laura French",
         "SQL, Java, C++",
         "1",
         "PhD",
         "Deep Learning Specialization",
         "Software Engineer",
         "Hire",
         "88945",
         "7",
         "70"
        ],
        [
         "11",
         "12",
         "Ralph Barrera",
         "Cybersecurity, Ethical Hacking, Networking",
         "0",
         "MBA",
         "Google ML",
         "Cybersecurity Analyst",
         "Reject",
         "62708",
         "5",
         "50"
        ],
        [
         "12",
         "13",
         "David Diaz",
         "Cybersecurity, Networking",
         "0",
         "M.Tech",
         "Deep Learning Specialization",
         "Cybersecurity Analyst",
         "Hire",
         "42077",
         "9",
         "65"
        ],
        [
         "13",
         "14",
         "Caitlin Myers",
         "SQL, C++, Java",
         "4",
         "B.Sc",
         "Deep Learning Specialization",
         "Software Engineer",
         "Hire",
         "50410",
         "10",
         "100"
        ],
        [
         "14",
         "15",
         "Tammy Pineda",
         "Pytorch, NLP",
         "0",
         "M.Tech",
         "Deep Learning Specialization",
         "AI Researcher",
         "Reject",
         "96555",
         "5",
         "45"
        ],
        [
         "15",
         "16",
         "Courtney Cook",
         "Cybersecurity, Networking",
         "1",
         "PhD",
         "Google ML",
         "Cybersecurity Analyst",
         "Reject",
         "51388",
         "6",
         "60"
        ],
        [
         "16",
         "17",
         "Megan Brown",
         "SQL, Python",
         "10",
         "PhD",
         null,
         "Data Scientist",
         "Hire",
         "115364",
         "2",
         "100"
        ],
        [
         "17",
         "18",
         "Frances Davis MD",
         "Linux, Networking, Cybersecurity, Ethical Hacking",
         "3",
         "B.Tech",
         null,
         "Cybersecurity Analyst",
         "Hire",
         "66379",
         "6",
         "80"
        ],
        [
         "18",
         "19",
         "Jonathon Pineda",
         "SQL, Python, Deep Learning",
         "3",
         "MBA",
         null,
         "Data Scientist",
         "Hire",
         "112439",
         "10",
         "95"
        ],
        [
         "19",
         "20",
         "Jennifer Collins",
         "Machine Learning, SQL, Python",
         "10",
         "B.Tech",
         "Deep Learning Specialization",
         "Data Scientist",
         "Hire",
         "53167",
         "9",
         "100"
        ],
        [
         "20",
         "21",
         "Nichole Welch",
         "SQL, Java, C++, React",
         "5",
         "B.Sc",
         null,
         "Software Engineer",
         "Hire",
         "57546",
         "4",
         "90"
        ],
        [
         "21",
         "22",
         "Amber Davis",
         "Python, TensorFlow, Pytorch, NLP",
         "6",
         "B.Sc",
         "Google ML",
         "AI Researcher",
         "Hire",
         "106352",
         "10",
         "100"
        ],
        [
         "22",
         "23",
         "William Clark",
         "Machine Learning, Deep Learning, SQL",
         "4",
         "MBA",
         "AWS Certified",
         "Data Scientist",
         "Hire",
         "107045",
         "8",
         "100"
        ],
        [
         "23",
         "24",
         "Taylor Williams",
         "TensorFlow, Pytorch, NLP, Python",
         "8",
         "MBA",
         "Deep Learning Specialization",
         "AI Researcher",
         "Hire",
         "94384",
         "0",
         "100"
        ],
        [
         "24",
         "25",
         "Lori Johnson",
         "Pytorch, TensorFlow, NLP, Python",
         "0",
         "B.Tech",
         "Deep Learning Specialization",
         "AI Researcher",
         "Hire",
         "91064",
         "10",
         "80"
        ],
        [
         "25",
         "26",
         "Roy Huang",
         "Python, NLP",
         "7",
         "B.Tech",
         "Deep Learning Specialization",
         "AI Researcher",
         "Hire",
         "68447",
         "10",
         "100"
        ],
        [
         "26",
         "27",
         "Christopher Ayers",
         "Ethical Hacking, Cybersecurity",
         "3",
         "B.Sc",
         "Deep Learning Specialization",
         "Cybersecurity Analyst",
         "Reject",
         "76203",
         "2",
         "60"
        ],
        [
         "27",
         "28",
         "Shaun Gomez",
         "Pytorch, NLP",
         "1",
         "M.Tech",
         null,
         "AI Researcher",
         "Reject",
         "41731",
         "5",
         "45"
        ],
        [
         "28",
         "29",
         "Claudia Harris",
         "NLP, Pytorch, Python",
         "10",
         "B.Tech",
         "Google ML",
         "AI Researcher",
         "Hire",
         "119307",
         "2",
         "100"
        ],
        [
         "29",
         "30",
         "Steven Thomas",
         "SQL, Python",
         "10",
         "B.Tech",
         "AWS Certified",
         "Data Scientist",
         "Hire",
         "59926",
         "4",
         "100"
        ],
        [
         "30",
         "31",
         "Abigail Watts",
         "Python, SQL",
         "4",
         "PhD",
         null,
         "Data Scientist",
         "Hire",
         "84679",
         "10",
         "100"
        ],
        [
         "31",
         "32",
         "Logan Mcclure",
         "Ethical Hacking, Networking, Linux",
         "1",
         "B.Sc",
         null,
         "Cybersecurity Analyst",
         "Hire",
         "58606",
         "10",
         "75"
        ],
        [
         "32",
         "33",
         "Elizabeth Serrano",
         "Deep Learning, Machine Learning, SQL, Python",
         "8",
         "M.Tech",
         "AWS Certified",
         "Data Scientist",
         "Hire",
         "51283",
         "4",
         "100"
        ],
        [
         "33",
         "34",
         "Maria Glover",
         "TensorFlow, Python, Pytorch",
         "9",
         "B.Sc",
         "Deep Learning Specialization",
         "AI Researcher",
         "Hire",
         "99521",
         "4",
         "100"
        ],
        [
         "34",
         "35",
         "Sandra Juarez",
         "Networking, Linux, Ethical Hacking",
         "0",
         "M.Tech",
         "Deep Learning Specialization",
         "Cybersecurity Analyst",
         "Hire",
         "47001",
         "10",
         "75"
        ],
        [
         "35",
         "36",
         "Bradley Cruz",
         "NLP, Pytorch",
         "7",
         "PhD",
         "AWS Certified",
         "AI Researcher",
         "Hire",
         "92104",
         "6",
         "100"
        ],
        [
         "36",
         "37",
         "Darrell Wilkinson",
         "Python, NLP",
         "7",
         "M.Tech",
         "Google ML",
         "AI Researcher",
         "Hire",
         "80936",
         "3",
         "100"
        ],
        [
         "37",
         "38",
         "Jason Flores",
         "C++, SQL, Java",
         "5",
         "B.Tech",
         "Google ML",
         "Software Engineer",
         "Hire",
         "97505",
         "7",
         "100"
        ],
        [
         "38",
         "39",
         "Denise Harper",
         "Linux, Cybersecurity",
         "7",
         "PhD",
         null,
         "Cybersecurity Analyst",
         "Hire",
         "106469",
         "0",
         "80"
        ],
        [
         "39",
         "40",
         "Kim Blake",
         "SQL, Python",
         "1",
         "MBA",
         "AWS Certified",
         "Data Scientist",
         "Hire",
         "52364",
         "8",
         "70"
        ],
        [
         "40",
         "41",
         "Lindsey Jackson",
         "C++, React",
         "10",
         "MBA",
         "AWS Certified",
         "Software Engineer",
         "Hire",
         "101108",
         "9",
         "100"
        ],
        [
         "41",
         "42",
         "Frances Salazar",
         "Networking, Linux",
         "1",
         "M.Tech",
         "AWS Certified",
         "Cybersecurity Analyst",
         "Hire",
         "51200",
         "10",
         "80"
        ],
        [
         "42",
         "43",
         "Justin Ross",
         "NLP, TensorFlow, Python",
         "3",
         "M.Tech",
         null,
         "AI Researcher",
         "Hire",
         "66403",
         "10",
         "95"
        ],
        [
         "43",
         "44",
         "Denise Ramirez",
         "Machine Learning, Python",
         "1",
         "MBA",
         "Deep Learning Specialization",
         "Data Scientist",
         "Hire",
         "50397",
         "8",
         "70"
        ],
        [
         "44",
         "45",
         "Tanya West",
         "SQL, Python, Machine Learning",
         "4",
         "M.Tech",
         "AWS Certified",
         "Data Scientist",
         "Hire",
         "95486",
         "6",
         "95"
        ],
        [
         "45",
         "46",
         "Ryan Peters",
         "SQL, Java",
         "5",
         "B.Sc",
         "AWS Certified",
         "Software Engineer",
         "Hire",
         "72756",
         "4",
         "90"
        ],
        [
         "46",
         "47",
         "Terry Burns",
         "SQL, Java, C++, React",
         "4",
         "MBA",
         "AWS Certified",
         "Software Engineer",
         "Hire",
         "50602",
         "9",
         "100"
        ],
        [
         "47",
         "48",
         "Christopher Stevenson",
         "Python, Machine Learning",
         "8",
         "PhD",
         "Google ML",
         "Data Scientist",
         "Hire",
         "103477",
         "9",
         "100"
        ],
        [
         "48",
         "49",
         "David Nash",
         "React, SQL, Java",
         "1",
         "MBA",
         "Deep Learning Specialization",
         "Software Engineer",
         "Hire",
         "46437",
         "9",
         "80"
        ],
        [
         "49",
         "50",
         "Christopher Nicholson",
         "Pytorch, Python",
         "5",
         "B.Tech",
         "Deep Learning Specialization",
         "AI Researcher",
         "Hire",
         "89338",
         "1",
         "75"
        ]
       ],
       "shape": {
        "columns": 11,
        "rows": 1000
       }
      },
      "text/html": [
       "<div>\n",
       "<style scoped>\n",
       "    .dataframe tbody tr th:only-of-type {\n",
       "        vertical-align: middle;\n",
       "    }\n",
       "\n",
       "    .dataframe tbody tr th {\n",
       "        vertical-align: top;\n",
       "    }\n",
       "\n",
       "    .dataframe thead th {\n",
       "        text-align: right;\n",
       "    }\n",
       "</style>\n",
       "<table border=\"1\" class=\"dataframe\">\n",
       "  <thead>\n",
       "    <tr style=\"text-align: right;\">\n",
       "      <th></th>\n",
       "      <th>Resume_ID</th>\n",
       "      <th>Name</th>\n",
       "      <th>Skills</th>\n",
       "      <th>Experience (Years)</th>\n",
       "      <th>Education</th>\n",
       "      <th>Certifications</th>\n",
       "      <th>Job Role</th>\n",
       "      <th>Recruiter Decision</th>\n",
       "      <th>Salary Expectation ($)</th>\n",
       "      <th>Projects Count</th>\n",
       "      <th>AI Score (0-100)</th>\n",
       "    </tr>\n",
       "  </thead>\n",
       "  <tbody>\n",
       "    <tr>\n",
       "      <th>0</th>\n",
       "      <td>1</td>\n",
       "      <td>Ashley Ali</td>\n",
       "      <td>TensorFlow, NLP, Pytorch</td>\n",
       "      <td>10</td>\n",
       "      <td>B.Sc</td>\n",
       "      <td>NaN</td>\n",
       "      <td>AI Researcher</td>\n",
       "      <td>Hire</td>\n",
       "      <td>104895</td>\n",
       "      <td>8</td>\n",
       "      <td>100</td>\n",
       "    </tr>\n",
       "    <tr>\n",
       "      <th>1</th>\n",
       "      <td>2</td>\n",
       "      <td>Wesley Roman</td>\n",
       "      <td>Deep Learning, Machine Learning, Python, SQL</td>\n",
       "      <td>10</td>\n",
       "      <td>MBA</td>\n",
       "      <td>Google ML</td>\n",
       "      <td>Data Scientist</td>\n",
       "      <td>Hire</td>\n",
       "      <td>113002</td>\n",
       "      <td>1</td>\n",
       "      <td>100</td>\n",
       "    </tr>\n",
       "    <tr>\n",
       "      <th>2</th>\n",
       "      <td>3</td>\n",
       "      <td>Corey Sanchez</td>\n",
       "      <td>Ethical Hacking, Cybersecurity, Linux</td>\n",
       "      <td>1</td>\n",
       "      <td>MBA</td>\n",
       "      <td>Deep Learning Specialization</td>\n",
       "      <td>Cybersecurity Analyst</td>\n",
       "      <td>Hire</td>\n",
       "      <td>71766</td>\n",
       "      <td>7</td>\n",
       "      <td>70</td>\n",
       "    </tr>\n",
       "    <tr>\n",
       "      <th>3</th>\n",
       "      <td>4</td>\n",
       "      <td>Elizabeth Carney</td>\n",
       "      <td>Python, Pytorch, TensorFlow</td>\n",
       "      <td>7</td>\n",
       "      <td>B.Tech</td>\n",
       "      <td>AWS Certified</td>\n",
       "      <td>AI Researcher</td>\n",
       "      <td>Hire</td>\n",
       "      <td>46848</td>\n",
       "      <td>0</td>\n",
       "      <td>95</td>\n",
       "    </tr>\n",
       "    <tr>\n",
       "      <th>4</th>\n",
       "      <td>5</td>\n",
       "      <td>Julie Hill</td>\n",
       "      <td>SQL, React, Java</td>\n",
       "      <td>4</td>\n",
       "      <td>PhD</td>\n",
       "      <td>NaN</td>\n",
       "      <td>Software Engineer</td>\n",
       "      <td>Hire</td>\n",
       "      <td>87441</td>\n",
       "      <td>9</td>\n",
       "      <td>100</td>\n",
       "    </tr>\n",
       "    <tr>\n",
       "      <th>...</th>\n",
       "      <td>...</td>\n",
       "      <td>...</td>\n",
       "      <td>...</td>\n",
       "      <td>...</td>\n",
       "      <td>...</td>\n",
       "      <td>...</td>\n",
       "      <td>...</td>\n",
       "      <td>...</td>\n",
       "      <td>...</td>\n",
       "      <td>...</td>\n",
       "      <td>...</td>\n",
       "    </tr>\n",
       "    <tr>\n",
       "      <th>995</th>\n",
       "      <td>996</td>\n",
       "      <td>Brenda Williams</td>\n",
       "      <td>Cybersecurity, Linux, Ethical Hacking</td>\n",
       "      <td>0</td>\n",
       "      <td>B.Sc</td>\n",
       "      <td>NaN</td>\n",
       "      <td>Cybersecurity Analyst</td>\n",
       "      <td>Reject</td>\n",
       "      <td>114364</td>\n",
       "      <td>9</td>\n",
       "      <td>60</td>\n",
       "    </tr>\n",
       "    <tr>\n",
       "      <th>996</th>\n",
       "      <td>997</td>\n",
       "      <td>Colleen Hicks</td>\n",
       "      <td>Deep Learning, Machine Learning</td>\n",
       "      <td>0</td>\n",
       "      <td>MBA</td>\n",
       "      <td>Deep Learning Specialization</td>\n",
       "      <td>Data Scientist</td>\n",
       "      <td>Reject</td>\n",
       "      <td>103294</td>\n",
       "      <td>5</td>\n",
       "      <td>45</td>\n",
       "    </tr>\n",
       "    <tr>\n",
       "      <th>997</th>\n",
       "      <td>998</td>\n",
       "      <td>Michelle Molina</td>\n",
       "      <td>TensorFlow, NLP</td>\n",
       "      <td>0</td>\n",
       "      <td>B.Tech</td>\n",
       "      <td>Google ML</td>\n",
       "      <td>AI Researcher</td>\n",
       "      <td>Hire</td>\n",
       "      <td>113855</td>\n",
       "      <td>9</td>\n",
       "      <td>65</td>\n",
       "    </tr>\n",
       "    <tr>\n",
       "      <th>998</th>\n",
       "      <td>999</td>\n",
       "      <td>Danielle Horn</td>\n",
       "      <td>Linux, Networking, Cybersecurity, Ethical Hacking</td>\n",
       "      <td>8</td>\n",
       "      <td>PhD</td>\n",
       "      <td>AWS Certified</td>\n",
       "      <td>Cybersecurity Analyst</td>\n",
       "      <td>Hire</td>\n",
       "      <td>83146</td>\n",
       "      <td>10</td>\n",
       "      <td>100</td>\n",
       "    </tr>\n",
       "    <tr>\n",
       "      <th>999</th>\n",
       "      <td>1000</td>\n",
       "      <td>Chad Collins</td>\n",
       "      <td>SQL, Machine Learning, Python, Deep Learning</td>\n",
       "      <td>7</td>\n",
       "      <td>M.Tech</td>\n",
       "      <td>Deep Learning Specialization</td>\n",
       "      <td>Data Scientist</td>\n",
       "      <td>Hire</td>\n",
       "      <td>119474</td>\n",
       "      <td>3</td>\n",
       "      <td>100</td>\n",
       "    </tr>\n",
       "  </tbody>\n",
       "</table>\n",
       "<p>1000 rows × 11 columns</p>\n",
       "</div>"
      ],
      "text/plain": [
       "     Resume_ID              Name  \\\n",
       "0            1        Ashley Ali   \n",
       "1            2      Wesley Roman   \n",
       "2            3     Corey Sanchez   \n",
       "3            4  Elizabeth Carney   \n",
       "4            5        Julie Hill   \n",
       "..         ...               ...   \n",
       "995        996   Brenda Williams   \n",
       "996        997     Colleen Hicks   \n",
       "997        998   Michelle Molina   \n",
       "998        999     Danielle Horn   \n",
       "999       1000      Chad Collins   \n",
       "\n",
       "                                                Skills  Experience (Years)  \\\n",
       "0                             TensorFlow, NLP, Pytorch                  10   \n",
       "1         Deep Learning, Machine Learning, Python, SQL                  10   \n",
       "2                Ethical Hacking, Cybersecurity, Linux                   1   \n",
       "3                          Python, Pytorch, TensorFlow                   7   \n",
       "4                                     SQL, React, Java                   4   \n",
       "..                                                 ...                 ...   \n",
       "995              Cybersecurity, Linux, Ethical Hacking                   0   \n",
       "996                    Deep Learning, Machine Learning                   0   \n",
       "997                                    TensorFlow, NLP                   0   \n",
       "998  Linux, Networking, Cybersecurity, Ethical Hacking                   8   \n",
       "999       SQL, Machine Learning, Python, Deep Learning                   7   \n",
       "\n",
       "    Education                Certifications               Job Role  \\\n",
       "0        B.Sc                           NaN          AI Researcher   \n",
       "1         MBA                     Google ML         Data Scientist   \n",
       "2         MBA  Deep Learning Specialization  Cybersecurity Analyst   \n",
       "3      B.Tech                 AWS Certified          AI Researcher   \n",
       "4         PhD                           NaN      Software Engineer   \n",
       "..        ...                           ...                    ...   \n",
       "995      B.Sc                           NaN  Cybersecurity Analyst   \n",
       "996       MBA  Deep Learning Specialization         Data Scientist   \n",
       "997    B.Tech                     Google ML          AI Researcher   \n",
       "998       PhD                 AWS Certified  Cybersecurity Analyst   \n",
       "999    M.Tech  Deep Learning Specialization         Data Scientist   \n",
       "\n",
       "    Recruiter Decision  Salary Expectation ($)  Projects Count  \\\n",
       "0                 Hire                  104895               8   \n",
       "1                 Hire                  113002               1   \n",
       "2                 Hire                   71766               7   \n",
       "3                 Hire                   46848               0   \n",
       "4                 Hire                   87441               9   \n",
       "..                 ...                     ...             ...   \n",
       "995             Reject                  114364               9   \n",
       "996             Reject                  103294               5   \n",
       "997               Hire                  113855               9   \n",
       "998               Hire                   83146              10   \n",
       "999               Hire                  119474               3   \n",
       "\n",
       "     AI Score (0-100)  \n",
       "0                 100  \n",
       "1                 100  \n",
       "2                  70  \n",
       "3                  95  \n",
       "4                 100  \n",
       "..                ...  \n",
       "995                60  \n",
       "996                45  \n",
       "997                65  \n",
       "998               100  \n",
       "999               100  \n",
       "\n",
       "[1000 rows x 11 columns]"
      ]
     },
     "execution_count": 2,
     "metadata": {},
     "output_type": "execute_result"
    }
   ],
   "source": [
    "import pandas as pd\n",
    "import numpy as np\n",
    "import scipy.stats as st\n",
    "\n",
    "df = pd.read_csv('AI_Resume_Screening.csv')\n",
    "df"
   ]
  },
  {
   "cell_type": "code",
   "execution_count": 3,
   "id": "d9df3fad",
   "metadata": {},
   "outputs": [
    {
     "name": "stdout",
     "output_type": "stream",
     "text": [
      "Missing Value Resume_ID                   0\n",
      "Name                        0\n",
      "Skills                      0\n",
      "Experience (Years)          0\n",
      "Education                   0\n",
      "Certifications            274\n",
      "Job Role                    0\n",
      "Recruiter Decision          0\n",
      "Salary Expectation ($)      0\n",
      "Projects Count              0\n",
      "AI Score (0-100)            0\n",
      "dtype: int64\n"
     ]
    }
   ],
   "source": [
    "# descriptive Analysis\n",
    "\n",
    "df.describe(include= 'all')\n",
    "print('Missing Value', df.isnull().sum())"
   ]
  },
  {
   "cell_type": "code",
   "execution_count": 4,
   "id": "a7405b0f",
   "metadata": {},
   "outputs": [
    {
     "data": {
      "application/vnd.microsoft.datawrangler.viewer.v0+json": {
       "columns": [
        {
         "name": "index",
         "rawType": "int64",
         "type": "integer"
        },
        {
         "name": "Certifications",
         "rawType": "object",
         "type": "unknown"
        }
       ],
       "ref": "d4ccb20d-88b8-49e5-be45-16d597408bd0",
       "rows": [
        [
         "0",
         "0"
        ],
        [
         "1",
         "Google ML"
        ],
        [
         "2",
         "Deep Learning Specialization"
        ],
        [
         "3",
         "AWS Certified"
        ],
        [
         "4",
         "0"
        ],
        [
         "5",
         "Google ML"
        ],
        [
         "6",
         "AWS Certified"
        ],
        [
         "7",
         "AWS Certified"
        ],
        [
         "8",
         "Deep Learning Specialization"
        ],
        [
         "9",
         "AWS Certified"
        ],
        [
         "10",
         "Deep Learning Specialization"
        ],
        [
         "11",
         "Google ML"
        ],
        [
         "12",
         "Deep Learning Specialization"
        ],
        [
         "13",
         "Deep Learning Specialization"
        ],
        [
         "14",
         "Deep Learning Specialization"
        ],
        [
         "15",
         "Google ML"
        ],
        [
         "16",
         "0"
        ],
        [
         "17",
         "0"
        ],
        [
         "18",
         "0"
        ],
        [
         "19",
         "Deep Learning Specialization"
        ],
        [
         "20",
         "0"
        ],
        [
         "21",
         "Google ML"
        ],
        [
         "22",
         "AWS Certified"
        ],
        [
         "23",
         "Deep Learning Specialization"
        ],
        [
         "24",
         "Deep Learning Specialization"
        ],
        [
         "25",
         "Deep Learning Specialization"
        ],
        [
         "26",
         "Deep Learning Specialization"
        ],
        [
         "27",
         "0"
        ],
        [
         "28",
         "Google ML"
        ],
        [
         "29",
         "AWS Certified"
        ],
        [
         "30",
         "0"
        ],
        [
         "31",
         "0"
        ],
        [
         "32",
         "AWS Certified"
        ],
        [
         "33",
         "Deep Learning Specialization"
        ],
        [
         "34",
         "Deep Learning Specialization"
        ],
        [
         "35",
         "AWS Certified"
        ],
        [
         "36",
         "Google ML"
        ],
        [
         "37",
         "Google ML"
        ],
        [
         "38",
         "0"
        ],
        [
         "39",
         "AWS Certified"
        ],
        [
         "40",
         "AWS Certified"
        ],
        [
         "41",
         "AWS Certified"
        ],
        [
         "42",
         "0"
        ],
        [
         "43",
         "Deep Learning Specialization"
        ],
        [
         "44",
         "AWS Certified"
        ],
        [
         "45",
         "AWS Certified"
        ],
        [
         "46",
         "AWS Certified"
        ],
        [
         "47",
         "Google ML"
        ],
        [
         "48",
         "Deep Learning Specialization"
        ],
        [
         "49",
         "Deep Learning Specialization"
        ]
       ],
       "shape": {
        "columns": 1,
        "rows": 1000
       }
      },
      "text/plain": [
       "0                                 0\n",
       "1                         Google ML\n",
       "2      Deep Learning Specialization\n",
       "3                     AWS Certified\n",
       "4                                 0\n",
       "                   ...             \n",
       "995                               0\n",
       "996    Deep Learning Specialization\n",
       "997                       Google ML\n",
       "998                   AWS Certified\n",
       "999    Deep Learning Specialization\n",
       "Name: Certifications, Length: 1000, dtype: object"
      ]
     },
     "execution_count": 4,
     "metadata": {},
     "output_type": "execute_result"
    }
   ],
   "source": [
    "df['Certifications'].fillna(0)"
   ]
  },
  {
   "cell_type": "code",
   "execution_count": 5,
   "id": "46d1858f",
   "metadata": {},
   "outputs": [
    {
     "name": "stdout",
     "output_type": "stream",
     "text": [
      "Average Score by Education Education\n",
      "B.Sc      84.365854\n",
      "B.Tech    84.625000\n",
      "M.Tech    83.964646\n",
      "MBA       83.267327\n",
      "PhD       83.512821\n",
      "Name: AI Score (0-100), dtype: float64\n"
     ]
    }
   ],
   "source": [
    "# Average Score by Category (Eduaction)\n",
    "avg_Score_by_edu = df.groupby('Education')['AI Score (0-100)'].mean()\n",
    "print('Average Score by Education',avg_Score_by_edu)"
   ]
  },
  {
   "cell_type": "code",
   "execution_count": 6,
   "id": "6ddf5c39",
   "metadata": {},
   "outputs": [
    {
     "name": "stdout",
     "output_type": "stream",
     "text": [
      "T-test: t=3.22, p_val=0.00\n"
     ]
    }
   ],
   "source": [
    "#T - test: cerficate and without certificate\n",
    "has_cert = df[df['Certifications'].notna()]['AI Score (0-100)']\n",
    "no_cert = df[df['Certifications'].isna()]['AI Score (0-100)']\n",
    "\n",
    "t_stats, p_val = st.ttest_ind(has_cert, no_cert, equal_var= False, nan_policy='omit')\n",
    "print(f\"T-test: t={t_stats:.2f}, p_val={p_val:.2f}\")\n"
   ]
  },
  {
   "cell_type": "code",
   "execution_count": 7,
   "id": "87fc4f76",
   "metadata": {},
   "outputs": [
    {
     "name": "stdout",
     "output_type": "stream",
     "text": [
      "Correlation Between Experince And AI Score 0.777041788268522\n"
     ]
    }
   ],
   "source": [
    "# Correlation Analysis\n",
    "corr = df['Experience (Years)'].corr(df['AI Score (0-100)'])\n",
    "print('Correlation Between Experince And AI Score',corr)"
   ]
  },
  {
   "cell_type": "code",
   "execution_count": 8,
   "id": "9bdc2953",
   "metadata": {},
   "outputs": [
    {
     "name": "stdout",
     "output_type": "stream",
     "text": [
      "83.95\n"
     ]
    }
   ],
   "source": [
    "# Numpy Calculation\n",
    "AI_array = df['AI Score (0-100)'].values\n",
    "\n",
    "AI_Score = np.mean(AI_array)\n",
    "print(AI_Score)"
   ]
  }
 ],
 "metadata": {
  "kernelspec": {
   "display_name": "Python 3",
   "language": "python",
   "name": "python3"
  },
  "language_info": {
   "codemirror_mode": {
    "name": "ipython",
    "version": 3
   },
   "file_extension": ".py",
   "mimetype": "text/x-python",
   "name": "python",
   "nbconvert_exporter": "python",
   "pygments_lexer": "ipython3",
   "version": "3.13.2"
  }
 },
 "nbformat": 4,
 "nbformat_minor": 5
}
